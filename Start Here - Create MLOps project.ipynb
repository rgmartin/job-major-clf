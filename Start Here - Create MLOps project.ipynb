{
 "cells": [
  {
   "cell_type": "markdown",
   "id": "8221559b-4df0-4c00-9930-33f562851c06",
   "metadata": {},
   "source": [
    "# Sagemaker MLOps: Job major classifier project"
   ]
  },
  {
   "cell_type": "markdown",
   "id": "5824724b-d1f1-4a8b-92c8-3ea159791273",
   "metadata": {},
   "source": [
    "This notebook creates programatically and MLOps project for classifiyng job titles into one of the job majors stated in the website O*NET."
   ]
  },
  {
   "cell_type": "markdown",
   "id": "3577f348-b264-422d-a936-afbe2b46d158",
   "metadata": {},
   "source": [
    "This notebook should be run in the Sagemaker environment Data Science 3.0\n",
    "\n",
    "***"
   ]
  },
  {
   "cell_type": "markdown",
   "id": "49df50d8-42b9-4a92-b018-02fa59e52fbe",
   "metadata": {},
   "source": [
    "## Setup"
   ]
  },
  {
   "cell_type": "markdown",
   "id": "87d04ec7-4b4c-42cd-95e6-1feb8aaaed52",
   "metadata": {},
   "source": [
    "Install latest version of Sagemaker python sdk"
   ]
  },
  {
   "cell_type": "code",
   "execution_count": 3,
   "id": "85f9dcc0-5208-4f24-b8b2-9d3b13f72594",
   "metadata": {
    "collapsed": true,
    "jupyter": {
     "outputs_hidden": true
    },
    "tags": []
   },
   "outputs": [
    {
     "name": "stdout",
     "output_type": "stream",
     "text": [
      "Requirement already satisfied: pip in /opt/conda/lib/python3.10/site-packages (24.0)\n",
      "Requirement already satisfied: sagemaker in /opt/conda/lib/python3.10/site-packages (2.214.0)\n",
      "Requirement already satisfied: attrs<24,>=23.1.0 in /opt/conda/lib/python3.10/site-packages (from sagemaker) (23.1.0)\n",
      "Requirement already satisfied: boto3<2.0,>=1.33.3 in /opt/conda/lib/python3.10/site-packages (from sagemaker) (1.33.9)\n",
      "Requirement already satisfied: cloudpickle==2.2.1 in /opt/conda/lib/python3.10/site-packages (from sagemaker) (2.2.1)\n",
      "Requirement already satisfied: google-pasta in /opt/conda/lib/python3.10/site-packages (from sagemaker) (0.2.0)\n",
      "Requirement already satisfied: numpy<2.0,>=1.9.0 in /opt/conda/lib/python3.10/site-packages (from sagemaker) (1.26.2)\n",
      "Requirement already satisfied: protobuf<5.0,>=3.12 in /opt/conda/lib/python3.10/site-packages (from sagemaker) (4.25.1)\n",
      "Requirement already satisfied: smdebug-rulesconfig==1.0.1 in /opt/conda/lib/python3.10/site-packages (from sagemaker) (1.0.1)\n",
      "Requirement already satisfied: importlib-metadata<7.0,>=1.4.0 in /opt/conda/lib/python3.10/site-packages (from sagemaker) (4.11.3)\n",
      "Requirement already satisfied: packaging>=20.0 in /opt/conda/lib/python3.10/site-packages (from sagemaker) (21.3)\n",
      "Requirement already satisfied: pandas in /opt/conda/lib/python3.10/site-packages (from sagemaker) (2.1.3)\n",
      "Requirement already satisfied: pathos in /opt/conda/lib/python3.10/site-packages (from sagemaker) (0.3.1)\n",
      "Requirement already satisfied: schema in /opt/conda/lib/python3.10/site-packages (from sagemaker) (0.7.5)\n",
      "Requirement already satisfied: PyYAML~=6.0 in /opt/conda/lib/python3.10/site-packages/PyYAML-6.0-py3.10-linux-x86_64.egg (from sagemaker) (6.0)\n",
      "Requirement already satisfied: jsonschema in /opt/conda/lib/python3.10/site-packages (from sagemaker) (4.20.0)\n",
      "Requirement already satisfied: platformdirs in /opt/conda/lib/python3.10/site-packages (from sagemaker) (2.5.2)\n",
      "Requirement already satisfied: tblib<4,>=1.7.0 in /opt/conda/lib/python3.10/site-packages (from sagemaker) (1.7.0)\n",
      "Requirement already satisfied: urllib3<3.0.0,>=1.26.8 in /opt/conda/lib/python3.10/site-packages (from sagemaker) (2.0.7)\n",
      "Requirement already satisfied: requests in /opt/conda/lib/python3.10/site-packages (from sagemaker) (2.31.0)\n",
      "Requirement already satisfied: docker in /opt/conda/lib/python3.10/site-packages (from sagemaker) (6.1.3)\n",
      "Requirement already satisfied: tqdm in /opt/conda/lib/python3.10/site-packages (from sagemaker) (4.64.1)\n",
      "Requirement already satisfied: psutil in /opt/conda/lib/python3.10/site-packages (from sagemaker) (5.9.0)\n",
      "Requirement already satisfied: botocore<1.34.0,>=1.33.9 in /opt/conda/lib/python3.10/site-packages (from boto3<2.0,>=1.33.3->sagemaker) (1.33.9)\n",
      "Requirement already satisfied: jmespath<2.0.0,>=0.7.1 in /opt/conda/lib/python3.10/site-packages (from boto3<2.0,>=1.33.3->sagemaker) (0.10.0)\n",
      "Requirement already satisfied: s3transfer<0.9.0,>=0.8.2 in /opt/conda/lib/python3.10/site-packages (from boto3<2.0,>=1.33.3->sagemaker) (0.8.2)\n",
      "Requirement already satisfied: zipp>=0.5 in /opt/conda/lib/python3.10/site-packages (from importlib-metadata<7.0,>=1.4.0->sagemaker) (3.8.0)\n",
      "Requirement already satisfied: pyparsing!=3.0.5,>=2.0.2 in /opt/conda/lib/python3.10/site-packages (from packaging>=20.0->sagemaker) (3.0.9)\n",
      "Requirement already satisfied: websocket-client>=0.32.0 in /opt/conda/lib/python3.10/site-packages (from docker->sagemaker) (0.58.0)\n",
      "Requirement already satisfied: charset-normalizer<4,>=2 in /opt/conda/lib/python3.10/site-packages (from requests->sagemaker) (2.0.4)\n",
      "Requirement already satisfied: idna<4,>=2.5 in /opt/conda/lib/python3.10/site-packages (from requests->sagemaker) (3.3)\n",
      "Requirement already satisfied: certifi>=2017.4.17 in /opt/conda/lib/python3.10/site-packages (from requests->sagemaker) (2023.11.17)\n",
      "Requirement already satisfied: six in /opt/conda/lib/python3.10/site-packages (from google-pasta->sagemaker) (1.16.0)\n",
      "Requirement already satisfied: jsonschema-specifications>=2023.03.6 in /opt/conda/lib/python3.10/site-packages (from jsonschema->sagemaker) (2023.11.2)\n",
      "Requirement already satisfied: referencing>=0.28.4 in /opt/conda/lib/python3.10/site-packages (from jsonschema->sagemaker) (0.31.1)\n",
      "Requirement already satisfied: rpds-py>=0.7.1 in /opt/conda/lib/python3.10/site-packages (from jsonschema->sagemaker) (0.13.2)\n",
      "Requirement already satisfied: python-dateutil>=2.8.2 in /opt/conda/lib/python3.10/site-packages (from pandas->sagemaker) (2.8.2)\n",
      "Requirement already satisfied: pytz>=2020.1 in /opt/conda/lib/python3.10/site-packages (from pandas->sagemaker) (2022.1)\n",
      "Requirement already satisfied: tzdata>=2022.1 in /opt/conda/lib/python3.10/site-packages (from pandas->sagemaker) (2023.3)\n",
      "Requirement already satisfied: ppft>=1.7.6.7 in /opt/conda/lib/python3.10/site-packages (from pathos->sagemaker) (1.7.6.7)\n",
      "Requirement already satisfied: dill>=0.3.7 in /opt/conda/lib/python3.10/site-packages (from pathos->sagemaker) (0.3.7)\n",
      "Requirement already satisfied: pox>=0.3.3 in /opt/conda/lib/python3.10/site-packages (from pathos->sagemaker) (0.3.3)\n",
      "Requirement already satisfied: multiprocess>=0.70.15 in /opt/conda/lib/python3.10/site-packages (from pathos->sagemaker) (0.70.15)\n",
      "Requirement already satisfied: contextlib2>=0.5.5 in /opt/conda/lib/python3.10/site-packages (from schema->sagemaker) (21.6.0)\n",
      "\u001b[33mWARNING: Running pip as the 'root' user can result in broken permissions and conflicting behaviour with the system package manager. It is recommended to use a virtual environment instead: https://pip.pypa.io/warnings/venv\u001b[0m\u001b[33m\n",
      "\u001b[0mNote: you may need to restart the kernel to use updated packages.\n"
     ]
    }
   ],
   "source": [
    "# Uncomment if you have any compatibility issues and would like to use the specific version of the sagemaker library\n",
    "# %pip install sagemaker==2.132.0\n",
    "%pip install --upgrade pip sagemaker"
   ]
  },
  {
   "cell_type": "code",
   "execution_count": 4,
   "id": "041b0a0b-d505-411c-9c2b-b2f465053096",
   "metadata": {
    "tags": []
   },
   "outputs": [
    {
     "data": {
      "text/plain": [
       "{'status': 'ok', 'restart': True}"
      ]
     },
     "execution_count": 4,
     "metadata": {},
     "output_type": "execute_result"
    }
   ],
   "source": [
    "import IPython\n",
    "IPython.Application.instance().kernel.do_shutdown(True)"
   ]
  },
  {
   "cell_type": "markdown",
   "id": "b4a8d23b-1954-4528-84ff-b286bb7e903b",
   "metadata": {},
   "source": [
    "### Import packages"
   ]
  },
  {
   "cell_type": "code",
   "execution_count": 1,
   "id": "fe2f9ab1-b33e-485d-9d97-bea1ef95dd30",
   "metadata": {
    "jupyter": {
     "source_hidden": true
    },
    "tags": []
   },
   "outputs": [
    {
     "name": "stdout",
     "output_type": "stream",
     "text": [
      "sagemaker.config INFO - Not applying SDK defaults from location: /etc/xdg/sagemaker/config.yaml\n",
      "sagemaker.config INFO - Not applying SDK defaults from location: /root/.config/sagemaker/config.yaml\n"
     ]
    },
    {
     "data": {
      "text/plain": [
       "'2.214.0'"
      ]
     },
     "execution_count": 1,
     "metadata": {},
     "output_type": "execute_result"
    }
   ],
   "source": [
    "import time\n",
    "import os\n",
    "import json\n",
    "import boto3\n",
    "import numpy as np  \n",
    "import pandas as pd \n",
    "import sagemaker\n",
    "from time import gmtime, strftime, sleep\n",
    "\n",
    "sagemaker.__version__"
   ]
  },
  {
   "cell_type": "markdown",
   "id": "c168a231-b203-40ed-8b94-9b1b59a44982",
   "metadata": {},
   "source": [
    "### Set constants"
   ]
  },
  {
   "cell_type": "code",
   "execution_count": 2,
   "id": "a32fd55e-9c9c-4cdf-9f80-1bf131e04fc3",
   "metadata": {
    "tags": []
   },
   "outputs": [],
   "source": [
    "#Variables for handling Sagemaker sdk\n",
    "boto_session = boto3.Session()\n",
    "region = boto_session.region_name\n",
    "bucket_name = sagemaker.Session().default_bucket()\n",
    "bucket_prefix = \"job-major-clf\"  \n",
    "sm_session = sagemaker.Session()\n",
    "sm_client = boto_session.client(\"sagemaker\")\n",
    "sm_role = sagemaker.get_execution_role()\n",
    "\n",
    "# Pipeline objects\n",
    "project = \"test-job-major-clf\"\n",
    "pipeline_name = f\"{project}-pipeline\"\n",
    "pipeline_model_name = f\"{project}-model\"\n",
    "model_package_group_name = f\"{project}-model-group\"\n",
    "endpoint_config_name = f\"{project}-endpoint-config\"\n",
    "endpoint_name = f\"{project}-endpoint\"\n",
    "\n",
    "#Instance types and counts\n",
    "process_instance_type = \"ml.c5.xlarge\"\n",
    "train_instance_count = 1\n",
    "train_instance_type = \"ml.m5.xlarge\"\n",
    "\n",
    "#S3 urls for data\n",
    "train_s3_url = f\"s3://{bucket_name}/{bucket_prefix}/train\"\n",
    "validation_s3_url = f\"s3://{bucket_name}/{bucket_prefix}/validation\"\n",
    "test_s3_url = f\"s3://{bucket_name}/{bucket_prefix}/test\"\n",
    "baseline_s3_url = f\"s3://{bucket_name}/{bucket_prefix}/baseline\"\n",
    "\n",
    "evaluation_s3_url = f\"s3://{bucket_name}/{bucket_prefix}/evaluation\"\n",
    "prediction_baseline_s3_url = f\"s3://{bucket_name}/{bucket_prefix}/prediction_baseline\"\n",
    "\n",
    "output_s3_url = f\"s3://{bucket_name}/{bucket_prefix}/output\""
   ]
  },
  {
   "cell_type": "code",
   "execution_count": 3,
   "id": "e154317b-0fe3-48b1-871f-435c55743ea0",
   "metadata": {
    "tags": []
   },
   "outputs": [
    {
     "name": "stdout",
     "output_type": "stream",
     "text": [
      "arn:aws:iam::181460750629:role/sm-studio-execution-role\n",
      "Train S3 url: s3://sagemaker-us-east-1-181460750629/job-major-clf/train\n",
      "Validation S3 url: s3://sagemaker-us-east-1-181460750629/job-major-clf/validation\n",
      "Test S3 url: s3://sagemaker-us-east-1-181460750629/job-major-clf/test\n",
      "Data baseline S3 url: s3://sagemaker-us-east-1-181460750629/job-major-clf/baseline\n",
      "Evaluation metrics S3 url: s3://sagemaker-us-east-1-181460750629/job-major-clf/evaluation\n",
      "Model prediction baseline S3 url: s3://sagemaker-us-east-1-181460750629/job-major-clf/prediction_baseline\n"
     ]
    }
   ],
   "source": [
    "print(sm_role)\n",
    "print(f\"Train S3 url: {train_s3_url}\")\n",
    "print(f\"Validation S3 url: {validation_s3_url}\")\n",
    "print(f\"Test S3 url: {test_s3_url}\")\n",
    "print(f\"Data baseline S3 url: {baseline_s3_url}\")\n",
    "print(f\"Evaluation metrics S3 url: {evaluation_s3_url}\")\n",
    "print(f\"Model prediction baseline S3 url: {prediction_baseline_s3_url}\")"
   ]
  },
  {
   "cell_type": "markdown",
   "id": "99bbd700-faad-4a95-98e3-504b11de93b2",
   "metadata": {},
   "source": [
    "Get domain id"
   ]
  },
  {
   "cell_type": "code",
   "execution_count": 4,
   "id": "14046e8c-eb9f-43f0-b6b4-aa445c5f5627",
   "metadata": {
    "tags": []
   },
   "outputs": [
    {
     "name": "stdout",
     "output_type": "stream",
     "text": [
      "SageMaker domain id: d-eezrmoob5mvx\n"
     ]
    }
   ],
   "source": [
    "NOTEBOOK_METADATA_FILE = \"/opt/ml/metadata/resource-metadata.json\"\n",
    "domain_id = None\n",
    "\n",
    "if os.path.exists(NOTEBOOK_METADATA_FILE):\n",
    "    with open(NOTEBOOK_METADATA_FILE, \"rb\") as f:\n",
    "        domain_id = json.loads(f.read()).get('DomainId')\n",
    "        print(f\"SageMaker domain id: {domain_id}\")"
   ]
  },
  {
   "cell_type": "markdown",
   "id": "e5e74bc0-3df8-4945-8b8b-b792f418cce4",
   "metadata": {},
   "source": [
    "***"
   ]
  },
  {
   "cell_type": "markdown",
   "id": "d20944b5-c5fe-4bd2-95b5-8bdf7a1bd5bd",
   "metadata": {
    "tags": []
   },
   "source": [
    "## Data"
   ]
  },
  {
   "cell_type": "markdown",
   "id": "6102b5cb-7760-4df0-8f55-27e862d50ee1",
   "metadata": {
    "tags": []
   },
   "source": [
    "Talk about data source"
   ]
  },
  {
   "cell_type": "code",
   "execution_count": 5,
   "id": "1481992c-a168-4d56-a5d2-25b30b6fc09c",
   "metadata": {
    "tags": []
   },
   "outputs": [
    {
     "name": "stdout",
     "output_type": "stream",
     "text": [
      "--2024-03-23 22:13:33--  https://www.onetcenter.org/dl_files/database/db_28_1_excel/Occupation%20Data.xlsx\n",
      "Resolving www.onetcenter.org (www.onetcenter.org)... 152.46.6.153, 2610:28:2100:1::10\n",
      "Connecting to www.onetcenter.org (www.onetcenter.org)|152.46.6.153|:443... connected.\n",
      "HTTP request sent, awaiting response... 200 OK\n",
      "Length: 102700 (100K) [application/vnd.openxmlformats-officedocument.spreadsheetml.sheet]\n",
      "Saving to: ‘data/Occupation Data.xlsx.1’\n",
      "\n",
      "Occupation Data.xls 100%[===================>] 100.29K  --.-KB/s    in 0.02s   \n",
      "\n",
      "2024-03-23 22:13:33 (5.59 MB/s) - ‘data/Occupation Data.xlsx.1’ saved [102700/102700]\n",
      "\n",
      "--2024-03-23 22:13:33--  https://www.onetcenter.org/dl_files/database/db_28_1_excel/Alternate%20Titles.xlsx\n",
      "Resolving www.onetcenter.org (www.onetcenter.org)... 152.46.6.153, 2610:28:2100:1::10\n",
      "Connecting to www.onetcenter.org (www.onetcenter.org)|152.46.6.153|:443... connected.\n",
      "HTTP request sent, awaiting response... 200 OK\n",
      "Length: 1228946 (1.2M) [application/vnd.openxmlformats-officedocument.spreadsheetml.sheet]\n",
      "Saving to: ‘data/Alternate Titles.xlsx.1’\n",
      "\n",
      "Alternate Titles.xl 100%[===================>]   1.17M  --.-KB/s    in 0.1s    \n",
      "\n",
      "2024-03-23 22:13:33 (11.2 MB/s) - ‘data/Alternate Titles.xlsx.1’ saved [1228946/1228946]\n",
      "\n"
     ]
    }
   ],
   "source": [
    "# Download datasets\n",
    "!wget -P data/ https://www.onetcenter.org/dl_files/database/db_28_1_excel/Occupation%20Data.xlsx\n",
    "!wget -P data/ https://www.onetcenter.org/dl_files/database/db_28_1_excel/Alternate%20Titles.xlsx"
   ]
  },
  {
   "cell_type": "code",
   "execution_count": 6,
   "id": "79ce8c17-88d0-4d35-9306-0c2d3dcf805b",
   "metadata": {
    "tags": []
   },
   "outputs": [],
   "source": [
    "df_alt = pd.read_excel('data/Occupation Data.xlsx')\n",
    "df_occ = pd.read_excel('data/Alternate Titles.xlsx')"
   ]
  },
  {
   "cell_type": "code",
   "execution_count": 7,
   "id": "d890873d-bb2c-4176-b45d-ebb55feb312d",
   "metadata": {
    "tags": []
   },
   "outputs": [
    {
     "data": {
      "text/html": [
       "<div>\n",
       "<style scoped>\n",
       "    .dataframe tbody tr th:only-of-type {\n",
       "        vertical-align: middle;\n",
       "    }\n",
       "\n",
       "    .dataframe tbody tr th {\n",
       "        vertical-align: top;\n",
       "    }\n",
       "\n",
       "    .dataframe thead th {\n",
       "        text-align: right;\n",
       "    }\n",
       "</style>\n",
       "<table border=\"1\" class=\"dataframe\">\n",
       "  <thead>\n",
       "    <tr style=\"text-align: right;\">\n",
       "      <th></th>\n",
       "      <th>O*NET-SOC Code</th>\n",
       "      <th>Title</th>\n",
       "      <th>Description</th>\n",
       "    </tr>\n",
       "  </thead>\n",
       "  <tbody>\n",
       "    <tr>\n",
       "      <th>0</th>\n",
       "      <td>11-1011.00</td>\n",
       "      <td>Chief Executives</td>\n",
       "      <td>Determine and formulate policies and provide o...</td>\n",
       "    </tr>\n",
       "    <tr>\n",
       "      <th>1</th>\n",
       "      <td>11-1011.03</td>\n",
       "      <td>Chief Sustainability Officers</td>\n",
       "      <td>Communicate and coordinate with management, sh...</td>\n",
       "    </tr>\n",
       "    <tr>\n",
       "      <th>2</th>\n",
       "      <td>11-1021.00</td>\n",
       "      <td>General and Operations Managers</td>\n",
       "      <td>Plan, direct, or coordinate the operations of ...</td>\n",
       "    </tr>\n",
       "    <tr>\n",
       "      <th>3</th>\n",
       "      <td>11-1031.00</td>\n",
       "      <td>Legislators</td>\n",
       "      <td>Develop, introduce, or enact laws and statutes...</td>\n",
       "    </tr>\n",
       "    <tr>\n",
       "      <th>4</th>\n",
       "      <td>11-2011.00</td>\n",
       "      <td>Advertising and Promotions Managers</td>\n",
       "      <td>Plan, direct, or coordinate advertising polici...</td>\n",
       "    </tr>\n",
       "  </tbody>\n",
       "</table>\n",
       "</div>"
      ],
      "text/plain": [
       "  O*NET-SOC Code                                Title  \\\n",
       "0     11-1011.00                     Chief Executives   \n",
       "1     11-1011.03        Chief Sustainability Officers   \n",
       "2     11-1021.00      General and Operations Managers   \n",
       "3     11-1031.00                          Legislators   \n",
       "4     11-2011.00  Advertising and Promotions Managers   \n",
       "\n",
       "                                         Description  \n",
       "0  Determine and formulate policies and provide o...  \n",
       "1  Communicate and coordinate with management, sh...  \n",
       "2  Plan, direct, or coordinate the operations of ...  \n",
       "3  Develop, introduce, or enact laws and statutes...  \n",
       "4  Plan, direct, or coordinate advertising polici...  "
      ]
     },
     "execution_count": 7,
     "metadata": {},
     "output_type": "execute_result"
    }
   ],
   "source": [
    "df_alt.head()"
   ]
  },
  {
   "cell_type": "code",
   "execution_count": 8,
   "id": "ee07d1f0-2bd6-4271-aaa4-5bf0a714882c",
   "metadata": {
    "tags": []
   },
   "outputs": [
    {
     "data": {
      "text/html": [
       "<div>\n",
       "<style scoped>\n",
       "    .dataframe tbody tr th:only-of-type {\n",
       "        vertical-align: middle;\n",
       "    }\n",
       "\n",
       "    .dataframe tbody tr th {\n",
       "        vertical-align: top;\n",
       "    }\n",
       "\n",
       "    .dataframe thead th {\n",
       "        text-align: right;\n",
       "    }\n",
       "</style>\n",
       "<table border=\"1\" class=\"dataframe\">\n",
       "  <thead>\n",
       "    <tr style=\"text-align: right;\">\n",
       "      <th></th>\n",
       "      <th>O*NET-SOC Code</th>\n",
       "      <th>Title</th>\n",
       "      <th>Alternate Title</th>\n",
       "      <th>Short Title</th>\n",
       "      <th>Source(s)</th>\n",
       "    </tr>\n",
       "  </thead>\n",
       "  <tbody>\n",
       "    <tr>\n",
       "      <th>0</th>\n",
       "      <td>11-1011.00</td>\n",
       "      <td>Chief Executives</td>\n",
       "      <td>Aeronautics Commission Director</td>\n",
       "      <td>NaN</td>\n",
       "      <td>08</td>\n",
       "    </tr>\n",
       "    <tr>\n",
       "      <th>1</th>\n",
       "      <td>11-1011.00</td>\n",
       "      <td>Chief Executives</td>\n",
       "      <td>Agency Owner</td>\n",
       "      <td>NaN</td>\n",
       "      <td>10</td>\n",
       "    </tr>\n",
       "    <tr>\n",
       "      <th>2</th>\n",
       "      <td>11-1011.00</td>\n",
       "      <td>Chief Executives</td>\n",
       "      <td>Agricultural Services Director</td>\n",
       "      <td>NaN</td>\n",
       "      <td>08</td>\n",
       "    </tr>\n",
       "    <tr>\n",
       "      <th>3</th>\n",
       "      <td>11-1011.00</td>\n",
       "      <td>Chief Executives</td>\n",
       "      <td>Arts and Humanities Council Director</td>\n",
       "      <td>NaN</td>\n",
       "      <td>08</td>\n",
       "    </tr>\n",
       "    <tr>\n",
       "      <th>4</th>\n",
       "      <td>11-1011.00</td>\n",
       "      <td>Chief Executives</td>\n",
       "      <td>Bank President</td>\n",
       "      <td>NaN</td>\n",
       "      <td>09</td>\n",
       "    </tr>\n",
       "  </tbody>\n",
       "</table>\n",
       "</div>"
      ],
      "text/plain": [
       "  O*NET-SOC Code             Title                       Alternate Title  \\\n",
       "0     11-1011.00  Chief Executives       Aeronautics Commission Director   \n",
       "1     11-1011.00  Chief Executives                          Agency Owner   \n",
       "2     11-1011.00  Chief Executives        Agricultural Services Director   \n",
       "3     11-1011.00  Chief Executives  Arts and Humanities Council Director   \n",
       "4     11-1011.00  Chief Executives                        Bank President   \n",
       "\n",
       "  Short Title Source(s)  \n",
       "0         NaN        08  \n",
       "1         NaN        10  \n",
       "2         NaN        08  \n",
       "3         NaN        08  \n",
       "4         NaN        09  "
      ]
     },
     "execution_count": 8,
     "metadata": {},
     "output_type": "execute_result"
    }
   ],
   "source": [
    "df_occ.head()"
   ]
  },
  {
   "cell_type": "code",
   "execution_count": 9,
   "id": "fe00be36-d0be-4713-bff4-934fc1e37d35",
   "metadata": {
    "tags": []
   },
   "outputs": [
    {
     "name": "stdout",
     "output_type": "stream",
     "text": [
      "Uploaded datasets to ['s3://sagemaker-us-east-1-181460750629/job-major-clf/input/Alternate Titles.xlsx', 's3://sagemaker-us-east-1-181460750629/job-major-clf/input/Occupation Data.xlsx']\n"
     ]
    }
   ],
   "source": [
    "try:\n",
    "    input_s3_urls\n",
    "except NameError:      \n",
    "    # If input_s3_url is not defined, upload the dataset to S3 and store the path\n",
    "    input_s3_urls = [\n",
    "        sagemaker.Session().upload_data(\n",
    "            path=\"data/Alternate Titles.xlsx\",\n",
    "            bucket=bucket_name,\n",
    "            key_prefix=f\"{bucket_prefix}/input\"\n",
    "        ),\n",
    "        sagemaker.Session().upload_data(\n",
    "            path=\"data/Occupation Data.xlsx\",\n",
    "            bucket=bucket_name,\n",
    "            key_prefix=f\"{bucket_prefix}/input\"\n",
    "        ),\n",
    "    ]\n",
    "        \n",
    "        \n",
    "        \n",
    "    print(f\"Uploaded datasets to {input_s3_urls}\")"
   ]
  },
  {
   "cell_type": "markdown",
   "id": "4875c143-03e1-4e66-901a-a95cea7d2065",
   "metadata": {},
   "source": [
    "***"
   ]
  },
  {
   "cell_type": "markdown",
   "id": "3fadffb5-06fa-43d5-a3a3-25a91725e7ef",
   "metadata": {},
   "source": [
    "## Create project programatically"
   ]
  },
  {
   "cell_type": "code",
   "execution_count": 10,
   "id": "eab1677a-1170-4a73-89b1-3d21af04d839",
   "metadata": {
    "tags": []
   },
   "outputs": [],
   "source": [
    "sm = boto3.client(\"sagemaker\")\n",
    "sc = boto3.client(\"servicecatalog\")\n",
    "\n",
    "sc_provider_name = \"Amazon SageMaker\"\n",
    "sc_product_name = \"MLOps template for model building and training\""
   ]
  },
  {
   "cell_type": "code",
   "execution_count": 11,
   "id": "3f12b905-34d8-47c2-91e7-e65bae463f07",
   "metadata": {
    "tags": []
   },
   "outputs": [],
   "source": [
    "p_ids = [p['ProductId'] for p in sc.search_products(\n",
    "    Filters={\n",
    "        'FullTextSearch': [sc_product_name]\n",
    "    },\n",
    ")['ProductViewSummaries'] if p[\"Name\"]==sc_product_name]"
   ]
  },
  {
   "cell_type": "code",
   "execution_count": 12,
   "id": "17a40845-11b7-4f41-b4ff-1cbd9d3dec08",
   "metadata": {
    "tags": []
   },
   "outputs": [
    {
     "name": "stdout",
     "output_type": "stream",
     "text": [
      "ML Ops product id: prod-53ibyqbj2cgmo\n"
     ]
    }
   ],
   "source": [
    "# If you get any exception from this code, go to the Option 2 and create a project in Studio UX\n",
    "if not len(p_ids):\n",
    "    raise Exception(\"No Amazon SageMaker ML Ops products found!\")\n",
    "elif len(p_ids) > 1:\n",
    "    raise Exception(\"Too many matching Amazon SageMaker ML Ops products found!\")\n",
    "else:\n",
    "    product_id = p_ids[0]\n",
    "    print(f\"ML Ops product id: {product_id}\")"
   ]
  },
  {
   "cell_type": "code",
   "execution_count": 13,
   "id": "8cb7a669-507d-4af2-bbfe-576e38a5473c",
   "metadata": {
    "tags": []
   },
   "outputs": [],
   "source": [
    "provisioning_artifact_id = sorted(\n",
    "    [i for i in sc.list_provisioning_artifacts(\n",
    "        ProductId=product_id\n",
    "    )['ProvisioningArtifactDetails'] if i['Guidance']=='DEFAULT'],\n",
    "    key=lambda d: d['Name'], reverse=True)[0]['Id']"
   ]
  },
  {
   "cell_type": "code",
   "execution_count": 18,
   "id": "0b27d99e-44e4-48b3-b4db-33d853b49e39",
   "metadata": {
    "tags": []
   },
   "outputs": [],
   "source": [
    "project_name = f\"test-job-major-clf-3\"\n",
    "project_parameters = []"
   ]
  },
  {
   "cell_type": "code",
   "execution_count": 19,
   "id": "f8815dd6-4a67-4ca2-836a-81947121097f",
   "metadata": {
    "tags": []
   },
   "outputs": [
    {
     "name": "stdout",
     "output_type": "stream",
     "text": [
      "{'ProjectArn': 'arn:aws:sagemaker:us-east-1:181460750629:project/test-job-major-clf-3', 'ProjectId': 'p-ka9k3eqqic4g', 'ResponseMetadata': {'RequestId': '9b76fcf1-d25d-4b10-9698-fc03f500f0e7', 'HTTPStatusCode': 200, 'HTTPHeaders': {'x-amzn-requestid': '9b76fcf1-d25d-4b10-9698-fc03f500f0e7', 'content-type': 'application/x-amz-json-1.1', 'content-length': '115', 'date': 'Sat, 23 Mar 2024 22:14:27 GMT'}, 'RetryAttempts': 0}}\n"
     ]
    }
   ],
   "source": [
    "# create SageMaker project\n",
    "r = sm.create_project(\n",
    "    ProjectName=project_name,\n",
    "    ProjectDescription=\"Model build project\",\n",
    "    ServiceCatalogProvisioningDetails={\n",
    "        'ProductId': product_id,\n",
    "        'ProvisioningArtifactId': provisioning_artifact_id,\n",
    "    },\n",
    ")\n",
    "\n",
    "print(r)\n",
    "project_id = r[\"ProjectId\"]"
   ]
  },
  {
   "cell_type": "code",
   "execution_count": 20,
   "id": "354f96e0-46ab-437f-8f1b-9d9dafb33c74",
   "metadata": {
    "tags": []
   },
   "outputs": [
    {
     "name": "stdout",
     "output_type": "stream",
     "text": [
      "Waiting for project creation completion\n",
      "Waiting for project creation completion\n",
      "Waiting for project creation completion\n",
      "Waiting for project creation completion\n",
      "Waiting for project creation completion\n",
      "Waiting for project creation completion\n",
      "Waiting for project creation completion\n",
      "Waiting for project creation completion\n",
      "Waiting for project creation completion\n",
      "Waiting for project creation completion\n",
      "MLOps project test-job-major-clf-3 creation completed\n"
     ]
    }
   ],
   "source": [
    "while sm.describe_project(ProjectName=project_name)['ProjectStatus'] != 'CreateCompleted':\n",
    "    print(\"Waiting for project creation completion\")\n",
    "    sleep(10)\n",
    "    \n",
    "print(f\"MLOps project {project_name} creation completed\")"
   ]
  },
  {
   "cell_type": "markdown",
   "id": "a5155a66-19e5-45b6-84ba-d7ee9a308eab",
   "metadata": {},
   "source": [
    "Clone the project default code to the Studio file system:\n",
    "1. Choose **Home** in the Studio sidebar\n",
    "2. Select **Deployments** and then select **Projects**\n",
    "3. Click on the name of the project you created to open the project details tab\n",
    "4. In the project tab, choose **Repositories**\n",
    "5. In the **Local path** column for the repository choose **clone repo....**\n",
    "6. In the dialog box that appears choose **Clone Repository**"
   ]
  },
  {
   "cell_type": "markdown",
   "id": "27d4dc86-6702-4f62-9db3-c38c436c8fd5",
   "metadata": {},
   "source": [
    "The end"
   ]
  },
  {
   "cell_type": "code",
   "execution_count": 21,
   "id": "ba621401-a89f-453a-8f7f-c8d555509a37",
   "metadata": {
    "tags": []
   },
   "outputs": [
    {
     "data": {
      "text/plain": [
       "['s3://sagemaker-us-east-1-181460750629/job-major-clf/input/Alternate Titles.xlsx',\n",
       " 's3://sagemaker-us-east-1-181460750629/job-major-clf/input/Occupation Data.xlsx']"
      ]
     },
     "execution_count": 21,
     "metadata": {},
     "output_type": "execute_result"
    }
   ],
   "source": [
    "input_s3_urls"
   ]
  },
  {
   "cell_type": "markdown",
   "id": "f29f318a-92d3-4fb3-8f74-a4a996c3e844",
   "metadata": {},
   "source": [
    "## Replace the default pipeline with our own classifier"
   ]
  },
  {
   "cell_type": "code",
   "execution_count": 2,
   "id": "72e765a2-a97f-44ad-9458-1240dbcad806",
   "metadata": {
    "tags": []
   },
   "outputs": [],
   "source": [
    "# Fill the variables below with the paths in the studio file system\n",
    "# of this tutorial repository and the recently create MLOps repository\n",
    "\n",
    "tutorial_dir = 'job-major-clf'\n",
    "project_dir = 'test-job-major-clf-3-p-ka9k3eqqic4g/sagemaker-test-job-major-clf-3-p-ka9k3eqqic4g-modelbuild'"
   ]
  },
  {
   "cell_type": "code",
   "execution_count": 3,
   "id": "ae89c732-50fc-4e58-8137-30315df94365",
   "metadata": {
    "tags": []
   },
   "outputs": [],
   "source": [
    "%cp ~/{tutorial_dir}/codebuild-buildspec.yml ~/{project_dir}//codebuild-buildspec.yml\n",
    "%cp -R ~/{tutorial_dir}/jobmajorclf ~/{project_dir}/pipelines/jobmajorclf"
   ]
  },
  {
   "cell_type": "code",
   "execution_count": 4,
   "id": "9608f8bc-f081-4d79-a400-2b8573aa58c8",
   "metadata": {
    "tags": []
   },
   "outputs": [
    {
     "name": "stdout",
     "output_type": "stream",
     "text": [
      "Overwriting /root/test-job-major-clf-3-p-ka9k3eqqic4g/sagemaker-test-job-major-clf-3-p-ka9k3eqqic4g-modelbuild/setup.py\n"
     ]
    }
   ],
   "source": [
    "%%writefile ~/{project_dir}/setup.py\n",
    "\n",
    "import os\n",
    "import setuptools\n",
    "\n",
    "\n",
    "about = {}\n",
    "here = os.path.abspath(os.path.dirname(__file__))\n",
    "with open(os.path.join(here, \"pipelines\", \"__version__.py\")) as f:\n",
    "    exec(f.read(), about)\n",
    "\n",
    "\n",
    "with open(\"README.md\", \"r\") as f:\n",
    "    readme = f.read()\n",
    "\n",
    "\n",
    "required_packages = [\"sagemaker\"]\n",
    "extras = {\n",
    "    \"test\": [\n",
    "        \"black\",\n",
    "        \"coverage\",\n",
    "        \"flake8\",\n",
    "        \"mock\",\n",
    "        \"pydocstyle\",\n",
    "        \"pytest\",\n",
    "        \"pytest-cov\",\n",
    "        \"sagemaker\",\n",
    "        \"tox\",\n",
    "    ]\n",
    "}\n",
    "setuptools.setup(\n",
    "    name=about[\"__title__\"],\n",
    "    description=about[\"__description__\"],\n",
    "    version=about[\"__version__\"],\n",
    "    author=about[\"__author__\"],\n",
    "    author_email=[\"__author_email__\"],\n",
    "    long_description=readme,\n",
    "    long_description_content_type=\"text/markdown\",\n",
    "    url=about[\"__url__\"],\n",
    "    license=about[\"__license__\"],\n",
    "    packages=setuptools.find_packages(),\n",
    "    include_package_data=True,\n",
    "    python_requires=\">=3.6\",\n",
    "    install_requires=required_packages,\n",
    "    extras_require=extras,\n",
    "    entry_points={\n",
    "        \"console_scripts\": [\n",
    "            \"get-pipeline-definition=pipelines.get_pipeline_definition:main\",\n",
    "            \"run-pipeline=pipelines.run_pipeline:main\",\n",
    "        ]\n",
    "    },\n",
    "    classifiers=[\n",
    "        \"Development Status :: 3 - Alpha\",\n",
    "        \"Intended Audience :: Developers\",\n",
    "        \"Natural Language :: English\",\n",
    "        \"Programming Language :: Python\",\n",
    "        \"Programming Language :: Python :: 3\",\n",
    "        \"Programming Language :: Python :: 3.6\",\n",
    "        \"Programming Language :: Python :: 3.7\",\n",
    "        \"Programming Language :: Python :: 3.8\",\n",
    "    ],\n",
    ")"
   ]
  },
  {
   "cell_type": "markdown",
   "id": "27eeaf25-9924-43bc-bf76-a3b4c6da9a61",
   "metadata": {},
   "source": [
    "Now it's time to run our pipeline. The default CI/CD pipeline implemented will run everytime a change is introduced in our repository. We can, for example commit all the latest changes and push to the remote repository. \n",
    "\n",
    "For this, in Sagemaker Studio open a new Terminal (File/New/Terminal). Inside the terminal, change your working directory to that of the MLOps project (make sure to put your own default project directory here):\n",
    "\n",
    "```bash\n",
    "cd test-job-major-clf-3-p-ka9k3eqqic4g/sagemaker-test-job-major-clf-3-p-ka9k3eqqic4g-modelbuild\n",
    "\n",
    "```\n",
    "Finally, add all changes to a new commit and push to the remote CodeCommit repository:\n",
    "\n",
    "```bash\n",
    "git add -A; git commit -m 'Ready to Run'; git push\n",
    "```\n",
    "\n",
    "To follow the execution of the pipeline, you can Open the Deployments/Projects window (search for it in the Home Panel on the left side of Sagemaker studio) and open the job-major-clf project. All the information and resources related to this project can be inspected here. In particular the running pipeline diagram will be found in the Pipeline tab. Here, select the pipeline name and open the last running execution. After completed execution, the following diagram will show each of the steps completed:"
   ]
  },
  {
   "cell_type": "markdown",
   "id": "787e02b5-07dd-49bb-8b85-d73ac0a79cbc",
   "metadata": {},
   "source": [
    "![alt text](Diagram.png \"Title\")"
   ]
  },
  {
   "cell_type": "markdown",
   "id": "59453d0f-1826-4c53-a788-74ac0aebbbfc",
   "metadata": {},
   "source": [
    "A successful completion of all the steps finishes with the trained model being stored in the Model Registry (Home/Models/Model registry in Sagemaker Studio), from where it can be compared against other model instances and further deployed into a serving solution like Sagemaker Endpoints. "
   ]
  },
  {
   "cell_type": "code",
   "execution_count": null,
   "id": "b0ac2dae-2a29-464d-9944-95a8e160fd98",
   "metadata": {},
   "outputs": [],
   "source": []
  }
 ],
 "metadata": {
  "availableInstances": [
   {
    "_defaultOrder": 0,
    "_isFastLaunch": true,
    "category": "General purpose",
    "gpuNum": 0,
    "hideHardwareSpecs": false,
    "memoryGiB": 4,
    "name": "ml.t3.medium",
    "vcpuNum": 2
   },
   {
    "_defaultOrder": 1,
    "_isFastLaunch": false,
    "category": "General purpose",
    "gpuNum": 0,
    "hideHardwareSpecs": false,
    "memoryGiB": 8,
    "name": "ml.t3.large",
    "vcpuNum": 2
   },
   {
    "_defaultOrder": 2,
    "_isFastLaunch": false,
    "category": "General purpose",
    "gpuNum": 0,
    "hideHardwareSpecs": false,
    "memoryGiB": 16,
    "name": "ml.t3.xlarge",
    "vcpuNum": 4
   },
   {
    "_defaultOrder": 3,
    "_isFastLaunch": false,
    "category": "General purpose",
    "gpuNum": 0,
    "hideHardwareSpecs": false,
    "memoryGiB": 32,
    "name": "ml.t3.2xlarge",
    "vcpuNum": 8
   },
   {
    "_defaultOrder": 4,
    "_isFastLaunch": true,
    "category": "General purpose",
    "gpuNum": 0,
    "hideHardwareSpecs": false,
    "memoryGiB": 8,
    "name": "ml.m5.large",
    "vcpuNum": 2
   },
   {
    "_defaultOrder": 5,
    "_isFastLaunch": false,
    "category": "General purpose",
    "gpuNum": 0,
    "hideHardwareSpecs": false,
    "memoryGiB": 16,
    "name": "ml.m5.xlarge",
    "vcpuNum": 4
   },
   {
    "_defaultOrder": 6,
    "_isFastLaunch": false,
    "category": "General purpose",
    "gpuNum": 0,
    "hideHardwareSpecs": false,
    "memoryGiB": 32,
    "name": "ml.m5.2xlarge",
    "vcpuNum": 8
   },
   {
    "_defaultOrder": 7,
    "_isFastLaunch": false,
    "category": "General purpose",
    "gpuNum": 0,
    "hideHardwareSpecs": false,
    "memoryGiB": 64,
    "name": "ml.m5.4xlarge",
    "vcpuNum": 16
   },
   {
    "_defaultOrder": 8,
    "_isFastLaunch": false,
    "category": "General purpose",
    "gpuNum": 0,
    "hideHardwareSpecs": false,
    "memoryGiB": 128,
    "name": "ml.m5.8xlarge",
    "vcpuNum": 32
   },
   {
    "_defaultOrder": 9,
    "_isFastLaunch": false,
    "category": "General purpose",
    "gpuNum": 0,
    "hideHardwareSpecs": false,
    "memoryGiB": 192,
    "name": "ml.m5.12xlarge",
    "vcpuNum": 48
   },
   {
    "_defaultOrder": 10,
    "_isFastLaunch": false,
    "category": "General purpose",
    "gpuNum": 0,
    "hideHardwareSpecs": false,
    "memoryGiB": 256,
    "name": "ml.m5.16xlarge",
    "vcpuNum": 64
   },
   {
    "_defaultOrder": 11,
    "_isFastLaunch": false,
    "category": "General purpose",
    "gpuNum": 0,
    "hideHardwareSpecs": false,
    "memoryGiB": 384,
    "name": "ml.m5.24xlarge",
    "vcpuNum": 96
   },
   {
    "_defaultOrder": 12,
    "_isFastLaunch": false,
    "category": "General purpose",
    "gpuNum": 0,
    "hideHardwareSpecs": false,
    "memoryGiB": 8,
    "name": "ml.m5d.large",
    "vcpuNum": 2
   },
   {
    "_defaultOrder": 13,
    "_isFastLaunch": false,
    "category": "General purpose",
    "gpuNum": 0,
    "hideHardwareSpecs": false,
    "memoryGiB": 16,
    "name": "ml.m5d.xlarge",
    "vcpuNum": 4
   },
   {
    "_defaultOrder": 14,
    "_isFastLaunch": false,
    "category": "General purpose",
    "gpuNum": 0,
    "hideHardwareSpecs": false,
    "memoryGiB": 32,
    "name": "ml.m5d.2xlarge",
    "vcpuNum": 8
   },
   {
    "_defaultOrder": 15,
    "_isFastLaunch": false,
    "category": "General purpose",
    "gpuNum": 0,
    "hideHardwareSpecs": false,
    "memoryGiB": 64,
    "name": "ml.m5d.4xlarge",
    "vcpuNum": 16
   },
   {
    "_defaultOrder": 16,
    "_isFastLaunch": false,
    "category": "General purpose",
    "gpuNum": 0,
    "hideHardwareSpecs": false,
    "memoryGiB": 128,
    "name": "ml.m5d.8xlarge",
    "vcpuNum": 32
   },
   {
    "_defaultOrder": 17,
    "_isFastLaunch": false,
    "category": "General purpose",
    "gpuNum": 0,
    "hideHardwareSpecs": false,
    "memoryGiB": 192,
    "name": "ml.m5d.12xlarge",
    "vcpuNum": 48
   },
   {
    "_defaultOrder": 18,
    "_isFastLaunch": false,
    "category": "General purpose",
    "gpuNum": 0,
    "hideHardwareSpecs": false,
    "memoryGiB": 256,
    "name": "ml.m5d.16xlarge",
    "vcpuNum": 64
   },
   {
    "_defaultOrder": 19,
    "_isFastLaunch": false,
    "category": "General purpose",
    "gpuNum": 0,
    "hideHardwareSpecs": false,
    "memoryGiB": 384,
    "name": "ml.m5d.24xlarge",
    "vcpuNum": 96
   },
   {
    "_defaultOrder": 20,
    "_isFastLaunch": false,
    "category": "General purpose",
    "gpuNum": 0,
    "hideHardwareSpecs": true,
    "memoryGiB": 0,
    "name": "ml.geospatial.interactive",
    "supportedImageNames": [
     "sagemaker-geospatial-v1-0"
    ],
    "vcpuNum": 0
   },
   {
    "_defaultOrder": 21,
    "_isFastLaunch": true,
    "category": "Compute optimized",
    "gpuNum": 0,
    "hideHardwareSpecs": false,
    "memoryGiB": 4,
    "name": "ml.c5.large",
    "vcpuNum": 2
   },
   {
    "_defaultOrder": 22,
    "_isFastLaunch": false,
    "category": "Compute optimized",
    "gpuNum": 0,
    "hideHardwareSpecs": false,
    "memoryGiB": 8,
    "name": "ml.c5.xlarge",
    "vcpuNum": 4
   },
   {
    "_defaultOrder": 23,
    "_isFastLaunch": false,
    "category": "Compute optimized",
    "gpuNum": 0,
    "hideHardwareSpecs": false,
    "memoryGiB": 16,
    "name": "ml.c5.2xlarge",
    "vcpuNum": 8
   },
   {
    "_defaultOrder": 24,
    "_isFastLaunch": false,
    "category": "Compute optimized",
    "gpuNum": 0,
    "hideHardwareSpecs": false,
    "memoryGiB": 32,
    "name": "ml.c5.4xlarge",
    "vcpuNum": 16
   },
   {
    "_defaultOrder": 25,
    "_isFastLaunch": false,
    "category": "Compute optimized",
    "gpuNum": 0,
    "hideHardwareSpecs": false,
    "memoryGiB": 72,
    "name": "ml.c5.9xlarge",
    "vcpuNum": 36
   },
   {
    "_defaultOrder": 26,
    "_isFastLaunch": false,
    "category": "Compute optimized",
    "gpuNum": 0,
    "hideHardwareSpecs": false,
    "memoryGiB": 96,
    "name": "ml.c5.12xlarge",
    "vcpuNum": 48
   },
   {
    "_defaultOrder": 27,
    "_isFastLaunch": false,
    "category": "Compute optimized",
    "gpuNum": 0,
    "hideHardwareSpecs": false,
    "memoryGiB": 144,
    "name": "ml.c5.18xlarge",
    "vcpuNum": 72
   },
   {
    "_defaultOrder": 28,
    "_isFastLaunch": false,
    "category": "Compute optimized",
    "gpuNum": 0,
    "hideHardwareSpecs": false,
    "memoryGiB": 192,
    "name": "ml.c5.24xlarge",
    "vcpuNum": 96
   },
   {
    "_defaultOrder": 29,
    "_isFastLaunch": true,
    "category": "Accelerated computing",
    "gpuNum": 1,
    "hideHardwareSpecs": false,
    "memoryGiB": 16,
    "name": "ml.g4dn.xlarge",
    "vcpuNum": 4
   },
   {
    "_defaultOrder": 30,
    "_isFastLaunch": false,
    "category": "Accelerated computing",
    "gpuNum": 1,
    "hideHardwareSpecs": false,
    "memoryGiB": 32,
    "name": "ml.g4dn.2xlarge",
    "vcpuNum": 8
   },
   {
    "_defaultOrder": 31,
    "_isFastLaunch": false,
    "category": "Accelerated computing",
    "gpuNum": 1,
    "hideHardwareSpecs": false,
    "memoryGiB": 64,
    "name": "ml.g4dn.4xlarge",
    "vcpuNum": 16
   },
   {
    "_defaultOrder": 32,
    "_isFastLaunch": false,
    "category": "Accelerated computing",
    "gpuNum": 1,
    "hideHardwareSpecs": false,
    "memoryGiB": 128,
    "name": "ml.g4dn.8xlarge",
    "vcpuNum": 32
   },
   {
    "_defaultOrder": 33,
    "_isFastLaunch": false,
    "category": "Accelerated computing",
    "gpuNum": 4,
    "hideHardwareSpecs": false,
    "memoryGiB": 192,
    "name": "ml.g4dn.12xlarge",
    "vcpuNum": 48
   },
   {
    "_defaultOrder": 34,
    "_isFastLaunch": false,
    "category": "Accelerated computing",
    "gpuNum": 1,
    "hideHardwareSpecs": false,
    "memoryGiB": 256,
    "name": "ml.g4dn.16xlarge",
    "vcpuNum": 64
   },
   {
    "_defaultOrder": 35,
    "_isFastLaunch": false,
    "category": "Accelerated computing",
    "gpuNum": 1,
    "hideHardwareSpecs": false,
    "memoryGiB": 61,
    "name": "ml.p3.2xlarge",
    "vcpuNum": 8
   },
   {
    "_defaultOrder": 36,
    "_isFastLaunch": false,
    "category": "Accelerated computing",
    "gpuNum": 4,
    "hideHardwareSpecs": false,
    "memoryGiB": 244,
    "name": "ml.p3.8xlarge",
    "vcpuNum": 32
   },
   {
    "_defaultOrder": 37,
    "_isFastLaunch": false,
    "category": "Accelerated computing",
    "gpuNum": 8,
    "hideHardwareSpecs": false,
    "memoryGiB": 488,
    "name": "ml.p3.16xlarge",
    "vcpuNum": 64
   },
   {
    "_defaultOrder": 38,
    "_isFastLaunch": false,
    "category": "Accelerated computing",
    "gpuNum": 8,
    "hideHardwareSpecs": false,
    "memoryGiB": 768,
    "name": "ml.p3dn.24xlarge",
    "vcpuNum": 96
   },
   {
    "_defaultOrder": 39,
    "_isFastLaunch": false,
    "category": "Memory Optimized",
    "gpuNum": 0,
    "hideHardwareSpecs": false,
    "memoryGiB": 16,
    "name": "ml.r5.large",
    "vcpuNum": 2
   },
   {
    "_defaultOrder": 40,
    "_isFastLaunch": false,
    "category": "Memory Optimized",
    "gpuNum": 0,
    "hideHardwareSpecs": false,
    "memoryGiB": 32,
    "name": "ml.r5.xlarge",
    "vcpuNum": 4
   },
   {
    "_defaultOrder": 41,
    "_isFastLaunch": false,
    "category": "Memory Optimized",
    "gpuNum": 0,
    "hideHardwareSpecs": false,
    "memoryGiB": 64,
    "name": "ml.r5.2xlarge",
    "vcpuNum": 8
   },
   {
    "_defaultOrder": 42,
    "_isFastLaunch": false,
    "category": "Memory Optimized",
    "gpuNum": 0,
    "hideHardwareSpecs": false,
    "memoryGiB": 128,
    "name": "ml.r5.4xlarge",
    "vcpuNum": 16
   },
   {
    "_defaultOrder": 43,
    "_isFastLaunch": false,
    "category": "Memory Optimized",
    "gpuNum": 0,
    "hideHardwareSpecs": false,
    "memoryGiB": 256,
    "name": "ml.r5.8xlarge",
    "vcpuNum": 32
   },
   {
    "_defaultOrder": 44,
    "_isFastLaunch": false,
    "category": "Memory Optimized",
    "gpuNum": 0,
    "hideHardwareSpecs": false,
    "memoryGiB": 384,
    "name": "ml.r5.12xlarge",
    "vcpuNum": 48
   },
   {
    "_defaultOrder": 45,
    "_isFastLaunch": false,
    "category": "Memory Optimized",
    "gpuNum": 0,
    "hideHardwareSpecs": false,
    "memoryGiB": 512,
    "name": "ml.r5.16xlarge",
    "vcpuNum": 64
   },
   {
    "_defaultOrder": 46,
    "_isFastLaunch": false,
    "category": "Memory Optimized",
    "gpuNum": 0,
    "hideHardwareSpecs": false,
    "memoryGiB": 768,
    "name": "ml.r5.24xlarge",
    "vcpuNum": 96
   },
   {
    "_defaultOrder": 47,
    "_isFastLaunch": false,
    "category": "Accelerated computing",
    "gpuNum": 1,
    "hideHardwareSpecs": false,
    "memoryGiB": 16,
    "name": "ml.g5.xlarge",
    "vcpuNum": 4
   },
   {
    "_defaultOrder": 48,
    "_isFastLaunch": false,
    "category": "Accelerated computing",
    "gpuNum": 1,
    "hideHardwareSpecs": false,
    "memoryGiB": 32,
    "name": "ml.g5.2xlarge",
    "vcpuNum": 8
   },
   {
    "_defaultOrder": 49,
    "_isFastLaunch": false,
    "category": "Accelerated computing",
    "gpuNum": 1,
    "hideHardwareSpecs": false,
    "memoryGiB": 64,
    "name": "ml.g5.4xlarge",
    "vcpuNum": 16
   },
   {
    "_defaultOrder": 50,
    "_isFastLaunch": false,
    "category": "Accelerated computing",
    "gpuNum": 1,
    "hideHardwareSpecs": false,
    "memoryGiB": 128,
    "name": "ml.g5.8xlarge",
    "vcpuNum": 32
   },
   {
    "_defaultOrder": 51,
    "_isFastLaunch": false,
    "category": "Accelerated computing",
    "gpuNum": 1,
    "hideHardwareSpecs": false,
    "memoryGiB": 256,
    "name": "ml.g5.16xlarge",
    "vcpuNum": 64
   },
   {
    "_defaultOrder": 52,
    "_isFastLaunch": false,
    "category": "Accelerated computing",
    "gpuNum": 4,
    "hideHardwareSpecs": false,
    "memoryGiB": 192,
    "name": "ml.g5.12xlarge",
    "vcpuNum": 48
   },
   {
    "_defaultOrder": 53,
    "_isFastLaunch": false,
    "category": "Accelerated computing",
    "gpuNum": 4,
    "hideHardwareSpecs": false,
    "memoryGiB": 384,
    "name": "ml.g5.24xlarge",
    "vcpuNum": 96
   },
   {
    "_defaultOrder": 54,
    "_isFastLaunch": false,
    "category": "Accelerated computing",
    "gpuNum": 8,
    "hideHardwareSpecs": false,
    "memoryGiB": 768,
    "name": "ml.g5.48xlarge",
    "vcpuNum": 192
   },
   {
    "_defaultOrder": 55,
    "_isFastLaunch": false,
    "category": "Accelerated computing",
    "gpuNum": 8,
    "hideHardwareSpecs": false,
    "memoryGiB": 1152,
    "name": "ml.p4d.24xlarge",
    "vcpuNum": 96
   },
   {
    "_defaultOrder": 56,
    "_isFastLaunch": false,
    "category": "Accelerated computing",
    "gpuNum": 8,
    "hideHardwareSpecs": false,
    "memoryGiB": 1152,
    "name": "ml.p4de.24xlarge",
    "vcpuNum": 96
   },
   {
    "_defaultOrder": 57,
    "_isFastLaunch": false,
    "category": "Accelerated computing",
    "gpuNum": 0,
    "hideHardwareSpecs": false,
    "memoryGiB": 32,
    "name": "ml.trn1.2xlarge",
    "vcpuNum": 8
   },
   {
    "_defaultOrder": 58,
    "_isFastLaunch": false,
    "category": "Accelerated computing",
    "gpuNum": 0,
    "hideHardwareSpecs": false,
    "memoryGiB": 512,
    "name": "ml.trn1.32xlarge",
    "vcpuNum": 128
   },
   {
    "_defaultOrder": 59,
    "_isFastLaunch": false,
    "category": "Accelerated computing",
    "gpuNum": 0,
    "hideHardwareSpecs": false,
    "memoryGiB": 512,
    "name": "ml.trn1n.32xlarge",
    "vcpuNum": 128
   }
  ],
  "instance_type": "ml.t3.medium",
  "kernelspec": {
   "display_name": "Python 3 (Data Science 3.0)",
   "language": "python",
   "name": "python3__SAGEMAKER_INTERNAL__arn:aws:sagemaker:us-east-1:081325390199:image/sagemaker-data-science-310-v1"
  },
  "language_info": {
   "codemirror_mode": {
    "name": "ipython",
    "version": 3
   },
   "file_extension": ".py",
   "mimetype": "text/x-python",
   "name": "python",
   "nbconvert_exporter": "python",
   "pygments_lexer": "ipython3",
   "version": "3.10.6"
  }
 },
 "nbformat": 4,
 "nbformat_minor": 5
}
